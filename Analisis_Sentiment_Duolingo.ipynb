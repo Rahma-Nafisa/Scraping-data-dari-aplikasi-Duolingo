{
  "nbformat": 4,
  "nbformat_minor": 0,
  "metadata": {
    "colab": {
      "provenance": [],
      "authorship_tag": "ABX9TyN9/m9DNJB8Fh1xHiRmKDjH",
      "include_colab_link": true
    },
    "kernelspec": {
      "name": "python3",
      "display_name": "Python 3"
    },
    "language_info": {
      "name": "python"
    }
  },
  "cells": [
    {
      "cell_type": "markdown",
      "metadata": {
        "id": "view-in-github",
        "colab_type": "text"
      },
      "source": [
        "<a href=\"https://colab.research.google.com/github/Rahma-Nafisa/Scraping-data-dari-aplikasi-Duolingo/blob/main/Analisis_Sentiment_Duolingo.ipynb\" target=\"_parent\"><img src=\"https://colab.research.google.com/assets/colab-badge.svg\" alt=\"Open In Colab\"/></a>"
      ]
    },
    {
      "cell_type": "code",
      "execution_count": null,
      "metadata": {
        "colab": {
          "base_uri": "https://localhost:8080/"
        },
        "id": "wnmdp4UCjGA_",
        "outputId": "8d687c2c-7b5d-4937-9272-9271a49ace2c"
      },
      "outputs": [
        {
          "output_type": "stream",
          "name": "stdout",
          "text": [
            "Requirement already satisfied: google-play-scraper in /usr/local/lib/python3.11/dist-packages (1.2.7)\n",
            "Requirement already satisfied: snscrape in /usr/local/lib/python3.11/dist-packages (0.7.0.20230622)\n",
            "Requirement already satisfied: requests[socks] in /usr/local/lib/python3.11/dist-packages (from snscrape) (2.32.3)\n",
            "Requirement already satisfied: lxml in /usr/local/lib/python3.11/dist-packages (from snscrape) (5.4.0)\n",
            "Requirement already satisfied: beautifulsoup4 in /usr/local/lib/python3.11/dist-packages (from snscrape) (4.13.4)\n",
            "Requirement already satisfied: filelock in /usr/local/lib/python3.11/dist-packages (from snscrape) (3.18.0)\n",
            "Requirement already satisfied: soupsieve>1.2 in /usr/local/lib/python3.11/dist-packages (from beautifulsoup4->snscrape) (2.7)\n",
            "Requirement already satisfied: typing-extensions>=4.0.0 in /usr/local/lib/python3.11/dist-packages (from beautifulsoup4->snscrape) (4.13.2)\n",
            "Requirement already satisfied: charset-normalizer<4,>=2 in /usr/local/lib/python3.11/dist-packages (from requests[socks]->snscrape) (3.4.2)\n",
            "Requirement already satisfied: idna<4,>=2.5 in /usr/local/lib/python3.11/dist-packages (from requests[socks]->snscrape) (3.10)\n",
            "Requirement already satisfied: urllib3<3,>=1.21.1 in /usr/local/lib/python3.11/dist-packages (from requests[socks]->snscrape) (2.4.0)\n",
            "Requirement already satisfied: certifi>=2017.4.17 in /usr/local/lib/python3.11/dist-packages (from requests[socks]->snscrape) (2025.4.26)\n",
            "Requirement already satisfied: PySocks!=1.5.7,>=1.5.6 in /usr/local/lib/python3.11/dist-packages (from requests[socks]->snscrape) (1.7.1)\n",
            "Requirement already satisfied: sastrawi in /usr/local/lib/python3.11/dist-packages (1.0.1)\n"
          ]
        },
        {
          "output_type": "stream",
          "name": "stderr",
          "text": [
            "[nltk_data] Downloading package punkt to /root/nltk_data...\n",
            "[nltk_data]   Package punkt is already up-to-date!\n",
            "[nltk_data] Downloading package stopwords to /root/nltk_data...\n",
            "[nltk_data]   Package stopwords is already up-to-date!\n"
          ]
        },
        {
          "output_type": "execute_result",
          "data": {
            "text/plain": [
              "True"
            ]
          },
          "metadata": {},
          "execution_count": 7
        }
      ],
      "source": [
        "!pip install google-play-scraper\n",
        "!pip install snscrape\n",
        "\n",
        "from google_play_scraper import app, reviews, Sort, reviews_all\n",
        "\n",
        "import pandas as pd\n",
        "pd.options.mode.chained_assignment = None\n",
        "import numpy as np\n",
        "seed = 0\n",
        "np.random.seed(seed)\n",
        "import matplotlib.pyplot as plt\n",
        "import seaborn as sns\n",
        "from sklearn.metrics import accuracy_score\n",
        "\n",
        "\n",
        "import datetime as dt\n",
        "import re\n",
        "import string\n",
        "from nltk.tokenize import word_tokenize\n",
        "from nltk.corpus import stopwords\n",
        "\n",
        "!pip install sastrawi\n",
        "from Sastrawi.Stemmer.StemmerFactory import StemmerFactory\n",
        "from Sastrawi.StopWordRemover.StopWordRemoverFactory import StopWordRemoverFactory\n",
        "from wordcloud import WordCloud\n",
        "\n",
        "import nltk\n",
        "nltk.download('punkt')\n",
        "nltk.download('stopwords')"
      ]
    },
    {
      "cell_type": "code",
      "source": [
        "import pandas as pd\n",
        "\n",
        "\n",
        "df = pd.read_csv('ulasan_aplikasi.csv')\n",
        "\n",
        "print(df.columns)"
      ],
      "metadata": {
        "colab": {
          "base_uri": "https://localhost:8080/"
        },
        "id": "Ci3jX3QukEQI",
        "outputId": "407327d2-161a-4335-fe33-9c2d10c1a61b"
      },
      "execution_count": null,
      "outputs": [
        {
          "output_type": "stream",
          "name": "stdout",
          "text": [
            "Index(['reviewId', 'userName', 'userImage', 'content', 'score',\n",
            "       'thumbsUpCount', 'reviewCreatedVersion', 'at', 'replyContent',\n",
            "       'repliedAt', 'appVersion'],\n",
            "      dtype='object')\n"
          ]
        }
      ]
    },
    {
      "cell_type": "code",
      "source": [
        "import pandas as pd\n",
        "import re\n",
        "import nltk\n",
        "nltk.download('stopwords')\n",
        "from nltk.corpus import stopwords\n",
        "\n",
        "df = pd.read_csv('ulasan_aplikasi.csv')\n",
        "df = df[['content']].dropna()\n",
        "\n",
        "\n",
        "def cleaningText(text):\n",
        "    text = text.lower()\n",
        "    text = re.sub(r'[^a-zA-Z\\s]', ' ', text)\n",
        "    text = re.sub(r'\\s+', ' ', text)\n",
        "    return text.strip()\n",
        "\n",
        "df['text_clean'] = df['content'].apply(cleaningText)\n",
        "\n",
        "\n",
        "slangwords = {\n",
        "    \"gk\": \"tidak\", \"ga\": \"tidak\", \"nggak\": \"tidak\", \"tdk\": \"tidak\",\n",
        "    \"bgt\": \"banget\", \"dr\": \"dari\", \"dgn\": \"dengan\", \"tp\": \"tapi\",\n",
        "    \"udh\": \"sudah\", \"blm\": \"belum\", \"trs\": \"terus\", \"jg\": \"juga\"\n",
        "}\n",
        "\n",
        "def fix_slangwords(text):\n",
        "    return ' '.join([slangwords.get(word, word) for word in text.split()])\n",
        "\n",
        "df['text_slang'] = df['text_clean'].apply(fix_slangwords)\n",
        "\n",
        "\n",
        "def tokenizingText(text):\n",
        "    return text.split()\n",
        "\n",
        "df['text_tokens'] = df['text_slang'].apply(tokenizingText)\n",
        "\n",
        "\n",
        "stop_words = set(stopwords.words('indonesian'))\n",
        "\n",
        "def filteringText(words):\n",
        "    return [word for word in words if word not in stop_words]\n",
        "\n",
        "df['text_stopwords'] = df['text_tokens'].apply(filteringText)\n",
        "\n",
        "\n",
        "def toSentence(words):\n",
        "    return ' '.join(words)\n",
        "\n",
        "df['text_final'] = df['text_stopwords'].apply(toSentence)\n",
        "\n",
        "\n",
        "print(df[['content', 'text_final']].head())"
      ],
      "metadata": {
        "colab": {
          "base_uri": "https://localhost:8080/"
        },
        "id": "n6FBL57ylCIh",
        "outputId": "c7c4b08c-9bcf-49b8-9e99-2f87e74f4774"
      },
      "execution_count": null,
      "outputs": [
        {
          "output_type": "stream",
          "name": "stderr",
          "text": [
            "[nltk_data] Downloading package stopwords to /root/nltk_data...\n",
            "[nltk_data]   Package stopwords is already up-to-date!\n"
          ]
        },
        {
          "output_type": "stream",
          "name": "stdout",
          "text": [
            "                                             content  \\\n",
            "0  aplikasi yg sangat bagus untuk para anak2 atau...   \n",
            "1  terimakasih banget sama aplikasi ini, selain m...   \n",
            "2  Baguss banget Aplikasinya ✨️🔥 sangat membantu ...   \n",
            "3  sangatt bagusss woyyy, udah lama main sihh dan...   \n",
            "4  untuk aplikasi nya seruu dan muda untuk di pah...   \n",
            "\n",
            "                                          text_final  \n",
            "0  aplikasi yg bagus anak remaja yg bosen ngapain...  \n",
            "1  terimakasih banget aplikasi menambah ahlian ba...  \n",
            "2  baguss banget aplikasinya membantu mengasah sk...  \n",
            "3  sangatt bagusss woyyy udah main sihh alhamduli...  \n",
            "4  aplikasi nya seruu muda pahami yaa pengisian c...  \n"
          ]
        }
      ]
    },
    {
      "cell_type": "code",
      "source": [
        "from Sastrawi.Stemmer.StemmerFactory import StemmerFactory\n",
        "\n",
        "factory = StemmerFactory()\n",
        "stemmer = factory.create_stemmer()\n",
        "\n",
        "def stemmingText(text):\n",
        "    return stemmer.stem(text)\n",
        "\n",
        "\n",
        "df['text_stemmed'] = df['text_final'].apply(stemmingText)\n",
        "\n",
        "\n",
        "print(df[['content', 'text_final', 'text_stemmed']].head())"
      ],
      "metadata": {
        "colab": {
          "base_uri": "https://localhost:8080/"
        },
        "id": "4Zftg-F6ltYI",
        "outputId": "2ccadfba-beb4-4a3a-d247-9715e88188ac"
      },
      "execution_count": null,
      "outputs": [
        {
          "output_type": "stream",
          "name": "stdout",
          "text": [
            "                                             content  \\\n",
            "0  aplikasi yg sangat bagus untuk para anak2 atau...   \n",
            "1  terimakasih banget sama aplikasi ini, selain m...   \n",
            "2  Baguss banget Aplikasinya ✨️🔥 sangat membantu ...   \n",
            "3  sangatt bagusss woyyy, udah lama main sihh dan...   \n",
            "4  untuk aplikasi nya seruu dan muda untuk di pah...   \n",
            "\n",
            "                                          text_final  \\\n",
            "0  aplikasi yg bagus anak remaja yg bosen ngapain...   \n",
            "1  terimakasih banget aplikasi menambah ahlian ba...   \n",
            "2  baguss banget aplikasinya membantu mengasah sk...   \n",
            "3  sangatt bagusss woyyy udah main sihh alhamduli...   \n",
            "4  aplikasi nya seruu muda pahami yaa pengisian c...   \n",
            "\n",
            "                                        text_stemmed  \n",
            "0  aplikasi yg bagus anak remaja yg bosen ngapain...  \n",
            "1  terimakasih banget aplikasi tambah ahli bahasa...  \n",
            "2  baguss banget aplikasi bantu asah skill bahasa...  \n",
            "3  sangatt bagusss woyyy udah main sihh alhamduli...  \n",
            "4  aplikasi nya seruu muda paham yaa isi cuore ny...  \n"
          ]
        }
      ]
    },
    {
      "cell_type": "code",
      "source": [
        "positive_words = {\n",
        "    'bagus', 'baik', 'mantap', 'suka', 'cepat', 'puas', 'lancar', 'mudah',\n",
        "    'keren', 'mantul', 'top', 'rekomendasi', 'senang', 'cocok', 'berhasil'\n",
        "}\n",
        "negative_words = {\n",
        "    'buruk', 'jelek', 'lama', 'error', 'parah', 'lemot', 'kecewa', 'susah',\n",
        "    'gagal', 'crash', 'keluar', 'hang', 'payah', 'benci', 'ribet'\n",
        "}\n",
        "\n",
        "# Fungsi analisis sentimen\n",
        "def sentiment_analysis_lexicon_indonesia(text):\n",
        "    score = 0\n",
        "    for word in text.split():\n",
        "        if word in positive_words:\n",
        "            score += 1\n",
        "        elif word in negative_words:\n",
        "            score -= 1\n",
        "    if score > 0:\n",
        "        label = 'positif'\n",
        "    elif score < 0:\n",
        "        label = 'negatif'\n",
        "    else:\n",
        "        label = 'netral'\n",
        "    return score, label"
      ],
      "metadata": {
        "id": "cFVeXgsfoBXl"
      },
      "execution_count": null,
      "outputs": []
    },
    {
      "cell_type": "code",
      "source": [
        "results = df['text_final'].apply(sentiment_analysis_lexicon_indonesia)\n",
        "results = list(zip(*results))\n",
        "df['polarity_score'] = results[0]\n",
        "df['polarity'] = results[1]\n",
        "\n"
      ],
      "metadata": {
        "id": "4AefxD7coULR"
      },
      "execution_count": null,
      "outputs": []
    },
    {
      "cell_type": "code",
      "source": [
        "print(df[['content', 'text_stemmed', 'polarity_score', 'polarity']].head(10))"
      ],
      "metadata": {
        "colab": {
          "base_uri": "https://localhost:8080/"
        },
        "id": "QHAD6kIiom3O",
        "outputId": "25bb0d8d-0a12-45e4-b729-1fbae41c48f8"
      },
      "execution_count": null,
      "outputs": [
        {
          "output_type": "stream",
          "name": "stdout",
          "text": [
            "                                             content  \\\n",
            "0  aplikasi yg sangat bagus untuk para anak2 atau...   \n",
            "1  terimakasih banget sama aplikasi ini, selain m...   \n",
            "2  Baguss banget Aplikasinya ✨️🔥 sangat membantu ...   \n",
            "3  sangatt bagusss woyyy, udah lama main sihh dan...   \n",
            "4  untuk aplikasi nya seruu dan muda untuk di pah...   \n",
            "5  Aplikasi keren saya banyak belajar lewat aplik...   \n",
            "6  Suka bgtt sma Duolingo ini, belajar jdi lebih ...   \n",
            "7  Sejauh 2 tahun saya pakai emang apk nya bagus ...   \n",
            "8  Untuk aplikasi nya sangat bagus, metode pelaja...   \n",
            "9  sebelumnya cukup sulit untuk mengumpulkan 5 He...   \n",
            "\n",
            "                                        text_stemmed  polarity_score polarity  \n",
            "0  aplikasi yg bagus anak remaja yg bosen ngapain...               2  positif  \n",
            "1  terimakasih banget aplikasi tambah ahli bahasa...               1  positif  \n",
            "2  baguss banget aplikasi bantu asah skill bahasa...               0   netral  \n",
            "3  sangatt bagusss woyyy udah main sihh alhamduli...               1  positif  \n",
            "4  aplikasi nya seruu muda paham yaa isi cuore ny...               2  positif  \n",
            "5  aplikasi keren ajar aplikasi kurang salah ajar...               1  positif  \n",
            "6  suka bgtt sma duolingo ajar jdi seru mudah pah...               2  positif  \n",
            "7  pakai emang apk nya bagus banget iklan ganggu ...               1  positif  \n",
            "8  aplikasi nya bagus metode ajar nya tarik jadi ...               2  positif  \n",
            "9  sulit kumpul heart mentok itu iklan heart jara...               0   netral  \n"
          ]
        }
      ]
    },
    {
      "cell_type": "code",
      "source": [
        "X = df['text_stemmed']\n",
        "y = df['polarity']"
      ],
      "metadata": {
        "id": "PTYJd01Bo7zN"
      },
      "execution_count": null,
      "outputs": []
    },
    {
      "cell_type": "code",
      "source": [
        "from sklearn.model_selection import train_test_split\n",
        "\n",
        "# 80/20\n",
        "X_train_80, X_test_20, y_train_80, y_test_20 = train_test_split(\n",
        "    X, y, test_size=0.2, random_state=42, stratify=y)\n",
        "\n",
        "# 70/30\n",
        "X_train_70, X_test_30, y_train_70, y_test_30 = train_test_split(\n",
        "    X, y, test_size=0.3, random_state=42, stratify=y)\n",
        "\n",
        "# 60/40\n",
        "X_train_60, X_test_40, y_train_60, y_test_40 = train_test_split(\n",
        "    X, y, test_size=0.4, random_state=42, stratify=y)"
      ],
      "metadata": {
        "id": "_iOBcsSlpEwU"
      },
      "execution_count": null,
      "outputs": []
    },
    {
      "cell_type": "code",
      "source": [
        "print(\"Distribusi label skema 80/20:\\n\", y_train_80.value_counts(normalize=True))\n",
        "print(\"\\nDistribusi label skema 70/30:\\n\", y_train_70.value_counts(normalize=True))\n",
        "print(\"\\nDistribusi label skema 60/40:\\n\", y_train_60.value_counts(normalize=True))"
      ],
      "metadata": {
        "colab": {
          "base_uri": "https://localhost:8080/"
        },
        "id": "HLcoXlplpt-k",
        "outputId": "998b0444-b398-4b90-940c-d022491c0fd6"
      },
      "execution_count": null,
      "outputs": [
        {
          "output_type": "stream",
          "name": "stdout",
          "text": [
            "Distribusi label skema 80/20:\n",
            " polarity\n",
            "positif    0.614167\n",
            "netral     0.368889\n",
            "negatif    0.016944\n",
            "Name: proportion, dtype: float64\n",
            "\n",
            "Distribusi label skema 70/30:\n",
            " polarity\n",
            "positif    0.614286\n",
            "netral     0.368889\n",
            "negatif    0.016825\n",
            "Name: proportion, dtype: float64\n",
            "\n",
            "Distribusi label skema 60/40:\n",
            " polarity\n",
            "positif    0.614074\n",
            "netral     0.368889\n",
            "negatif    0.017037\n",
            "Name: proportion, dtype: float64\n"
          ]
        }
      ]
    },
    {
      "cell_type": "code",
      "source": [
        "data_splits = {\n",
        "    '80_20': (X_train_80, X_test_20, y_train_80, y_test_20),\n",
        "    '70_30': (X_train_70, X_test_30, y_train_70, y_test_30),\n",
        "    '60_40': (X_train_60, X_test_40, y_train_60, y_test_40)\n",
        "}"
      ],
      "metadata": {
        "id": "tNXaMTrkqBRA"
      },
      "execution_count": null,
      "outputs": []
    },
    {
      "cell_type": "code",
      "source": [
        "from sklearn.pipeline import Pipeline\n",
        "from sklearn.feature_extraction.text import TfidfVectorizer\n",
        "from sklearn.svm import SVC\n",
        "from sklearn.ensemble import RandomForestClassifier\n",
        "from sklearn.metrics import classification_report, confusion_matrix, accuracy_score\n",
        "\n",
        "import matplotlib.pyplot as plt\n",
        "import seaborn as sns\n",
        "\n",
        "def train_and_evaluate(model, split_key, model_name='Model'):\n",
        "    X_train, X_test, y_train, y_test = data_splits[split_key]\n",
        "\n",
        "    # Pipeline TF-IDF + Model\n",
        "    pipeline = Pipeline([\n",
        "        ('tfidf', TfidfVectorizer(ngram_range=(1, 2), max_features=5000)),\n",
        "        ('clf', model)\n",
        "    ])\n",
        "\n",
        "    # Train\n",
        "    pipeline.fit(X_train, y_train)\n",
        "\n",
        "    # Predict\n",
        "    y_pred = pipeline.predict(X_test)\n",
        "\n",
        "    print(f\"\\n=== Evaluasi untuk {model_name} ({split_key}) ===\")\n",
        "    print(classification_report(y_test, y_pred))\n",
        "    print(f\"\\nAkurasi: {accuracy_score(y_test, y_pred):.4f}\")\n",
        "\n",
        "\n",
        "    cm = confusion_matrix(y_test, y_pred, labels=['positif', 'netral', 'negatif'])\n",
        "    plt.figure(figsize=(6, 4))\n",
        "    sns.heatmap(cm, annot=True, fmt='d', xticklabels=['positif', 'netral', 'negatif'],yticklabels=['positif', 'netral', 'negatif'], cmap=\"Blues\")\n",
        "    plt.title(f\"Confusion Matrix {model_name} ({split_key})\")\n",
        "    plt.xlabel(\"Predicted\")\n",
        "    plt.ylabel(\"True\")\n",
        "    plt.show()\n",
        "\n",
        "    return pipeline\n"
      ],
      "metadata": {
        "id": "e4muii5aqMIf"
      },
      "execution_count": null,
      "outputs": []
    },
    {
      "cell_type": "code",
      "source": [
        "# Skema 1: Tf-IDF + SVM (80/20)\n",
        "svm_model_80 = train_and_evaluate(SVC(kernel='linear'), '80_20', 'SVM')\n",
        "\n",
        "# Skema 2: Tf-IDF + RF (70/30)\n",
        "rf_model_70 = train_and_evaluate(RandomForestClassifier(n_estimators=100), '70_30', 'Random Forest')\n",
        "\n",
        "# Skema 3: Tf-IDF + SVM (60/40)\n",
        "svm_model_60 = train_and_evaluate(SVC(kernel='linear'), '60_40', 'SVM 60/40')"
      ],
      "metadata": {
        "colab": {
          "base_uri": "https://localhost:8080/",
          "height": 1000
        },
        "id": "N2XTgebhr4qR",
        "outputId": "df355a73-f9a6-4c78-d994-f2970640b46d"
      },
      "execution_count": null,
      "outputs": [
        {
          "output_type": "stream",
          "name": "stdout",
          "text": [
            "\n",
            "=== Evaluasi untuk SVM (80_20) ===\n",
            "              precision    recall  f1-score   support\n",
            "\n",
            "     negatif       1.00      0.07      0.12        15\n",
            "      netral       0.90      0.94      0.92       332\n",
            "     positif       0.96      0.96      0.96       553\n",
            "\n",
            "    accuracy                           0.94       900\n",
            "   macro avg       0.96      0.66      0.67       900\n",
            "weighted avg       0.94      0.94      0.93       900\n",
            "\n",
            "\n",
            "Akurasi: 0.9400\n"
          ]
        },
        {
          "output_type": "display_data",
          "data": {
            "text/plain": [
              "<Figure size 600x400 with 2 Axes>"
            ],
            "image/png": "[encoded data removed]"
          },
          "metadata": {}
        },
        {
          "output_type": "stream",
          "name": "stdout",
          "text": [
            "\n",
            "=== Evaluasi untuk Random Forest (70_30) ===\n",
            "              precision    recall  f1-score   support\n",
            "\n",
            "     negatif       1.00      0.04      0.08        23\n",
            "      netral       0.91      0.94      0.92       498\n",
            "     positif       0.96      0.97      0.97       829\n",
            "\n",
            "    accuracy                           0.94      1350\n",
            "   macro avg       0.96      0.65      0.66      1350\n",
            "weighted avg       0.94      0.94      0.94      1350\n",
            "\n",
            "\n",
            "Akurasi: 0.9422\n"
          ]
        },
        {
          "output_type": "display_data",
          "data": {
            "text/plain": [
              "<Figure size 600x400 with 2 Axes>"
            ],
            "image/png": "[encoded data removed]"
          },
          "metadata": {}
        },
        {
          "output_type": "stream",
          "name": "stdout",
          "text": [
            "\n",
            "=== Evaluasi untuk SVM 60/40 (60_40) ===\n",
            "              precision    recall  f1-score   support\n",
            "\n",
            "     negatif       1.00      0.03      0.06        30\n",
            "      netral       0.87      0.94      0.90       664\n",
            "     positif       0.96      0.94      0.95      1106\n",
            "\n",
            "    accuracy                           0.93      1800\n",
            "   macro avg       0.94      0.64      0.64      1800\n",
            "weighted avg       0.93      0.93      0.92      1800\n",
            "\n",
            "\n",
            "Akurasi: 0.9250\n"
          ]
        },
        {
          "output_type": "display_data",
          "data": {
            "text/plain": [
              "<Figure size 600x400 with 2 Axes>"
            ],
            "image/png": "[encoded data removed]"
          },
          "metadata": {}
        }
      ]
    },
    {
      "cell_type": "code",
      "source": [
        "pipeline = train_and_evaluate(SVC(), '80_20', 'SVM')\n",
        "\n",
        "# Sample untuk prediksi\n",
        "sample = [\"aplikasinya bagus banget dan bermanfaat\"]\n",
        "\n",
        "prediction = pipeline.predict(sample)\n",
        "\n",
        "print(\"Prediksi:\", prediction)\n"
      ],
      "metadata": {
        "id": "nzufDQLUbvSe",
        "colab": {
          "base_uri": "https://localhost:8080/",
          "height": 810
        },
        "outputId": "7961c859-a52b-4210-af6f-2a4d6b3122ce"
      },
      "execution_count": null,
      "outputs": [
        {
          "output_type": "stream",
          "name": "stdout",
          "text": [
            "\n",
            "=== Evaluasi untuk SVM (80_20) ===\n",
            "              precision    recall  f1-score   support\n",
            "\n",
            "     negatif       0.00      0.00      0.00        15\n",
            "      netral       0.86      0.93      0.89       332\n",
            "     positif       0.95      0.94      0.95       553\n",
            "\n",
            "    accuracy                           0.92       900\n",
            "   macro avg       0.61      0.62      0.61       900\n",
            "weighted avg       0.90      0.92      0.91       900\n",
            "\n",
            "\n",
            "Akurasi: 0.9178\n"
          ]
        },
        {
          "output_type": "stream",
          "name": "stderr",
          "text": [
            "/usr/local/lib/python3.11/dist-packages/sklearn/metrics/_classification.py:1565: UndefinedMetricWarning: Precision is ill-defined and being set to 0.0 in labels with no predicted samples. Use `zero_division` parameter to control this behavior.\n",
            "  _warn_prf(average, modifier, f\"{metric.capitalize()} is\", len(result))\n",
            "/usr/local/lib/python3.11/dist-packages/sklearn/metrics/_classification.py:1565: UndefinedMetricWarning: Precision is ill-defined and being set to 0.0 in labels with no predicted samples. Use `zero_division` parameter to control this behavior.\n",
            "  _warn_prf(average, modifier, f\"{metric.capitalize()} is\", len(result))\n",
            "/usr/local/lib/python3.11/dist-packages/sklearn/metrics/_classification.py:1565: UndefinedMetricWarning: Precision is ill-defined and being set to 0.0 in labels with no predicted samples. Use `zero_division` parameter to control this behavior.\n",
            "  _warn_prf(average, modifier, f\"{metric.capitalize()} is\", len(result))\n"
          ]
        },
        {
          "output_type": "display_data",
          "data": {
            "text/plain": [
              "<Figure size 600x400 with 2 Axes>"
            ],
            "image/png": "[encoded data removed]"
          },
          "metadata": {}
        },
        {
          "output_type": "stream",
          "name": "stdout",
          "text": [
            "Prediksi: ['positif']\n"
          ]
        }
      ]
    },
    {
      "cell_type": "code",
      "source": [
        "from sklearn.preprocessing import LabelEncoder\n",
        "from tensorflow.keras.preprocessing.text import Tokenizer\n",
        "from tensorflow.keras.preprocessing.sequence import pad_sequences\n",
        "from tensorflow.keras.utils import to_categorical\n",
        "from tensorflow.keras.models import Sequential\n",
        "from tensorflow.keras.layers import Embedding, LSTM, Dense, Dropout\n",
        "from sklearn.metrics import classification_report, accuracy_score\n",
        "\n",
        "le = LabelEncoder()\n",
        "y = le.fit_transform(df['polarity'])\n",
        "num_classes = len(le.classes_)\n",
        "\n",
        "tokenizer = Tokenizer(num_words=10000, oov_token=\"<OOV>\")\n",
        "tokenizer.fit_on_texts(df['text_stemmed'])\n",
        "\n",
        "sequences = tokenizer.texts_to_sequences(df['text_stemmed'])\n",
        "padded_sequences = pad_sequences(sequences, padding='post', maxlen=100)\n",
        "\n",
        "y_cat = to_categorical(y)\n",
        "\n",
        "from sklearn.model_selection import train_test_split\n",
        "\n",
        "X_train_dl, X_test_dl, y_train_dl, y_test_dl = train_test_split(\n",
        "    padded_sequences, y_cat, test_size=0.2, random_state=42, stratify=y\n",
        ")\n"
      ],
      "metadata": {
        "id": "C_eR_byJb3YY"
      },
      "execution_count": null,
      "outputs": []
    },
    {
      "cell_type": "code",
      "source": [
        "model = Sequential()\n",
        "model.add(Embedding(input_dim=10000, output_dim=128, input_length=100))\n",
        "model.add(LSTM(64, return_sequences=False))\n",
        "model.add(Dropout(0.5))\n",
        "model.add(Dense(64, activation='relu'))\n",
        "model.add(Dense(num_classes, activation='softmax'))\n",
        "\n",
        "model.compile(loss='categorical_crossentropy', optimizer='adam', metrics=['accuracy'])\n",
        "\n",
        "history = model.fit(\n",
        "    X_train_dl, y_train_dl,\n",
        "    epochs=10,\n",
        "    batch_size=64,\n",
        "    validation_data=(X_test_dl, y_test_dl)\n",
        ")\n"
      ],
      "metadata": {
        "id": "pq7daT1pb_o8",
        "colab": {
          "base_uri": "https://localhost:8080/"
        },
        "outputId": "55894420-e1d2-4b50-e613-30c2d362f0a7"
      },
      "execution_count": null,
      "outputs": [
        {
          "output_type": "stream",
          "name": "stdout",
          "text": [
            "Epoch 1/10\n"
          ]
        },
        {
          "output_type": "stream",
          "name": "stderr",
          "text": [
            "/usr/local/lib/python3.11/dist-packages/keras/src/layers/core/embedding.py:90: UserWarning: Argument `input_length` is deprecated. Just remove it.\n",
            "  warnings.warn(\n"
          ]
        },
        {
          "output_type": "stream",
          "name": "stdout",
          "text": [
            "\u001b[1m57/57\u001b[0m \u001b[32m━━━━━━━━━━━━━━━━━━━━\u001b[0m\u001b[37m\u001b[0m \u001b[1m12s\u001b[0m 144ms/step - accuracy: 0.5697 - loss: 0.8861 - val_accuracy: 0.6144 - val_loss: 0.7370\n",
            "Epoch 2/10\n",
            "\u001b[1m57/57\u001b[0m \u001b[32m━━━━━━━━━━━━━━━━━━━━\u001b[0m\u001b[37m\u001b[0m \u001b[1m10s\u001b[0m 141ms/step - accuracy: 0.6192 - loss: 0.7410 - val_accuracy: 0.6144 - val_loss: 0.7385\n",
            "Epoch 3/10\n",
            "\u001b[1m57/57\u001b[0m \u001b[32m━━━━━━━━━━━━━━━━━━━━\u001b[0m\u001b[37m\u001b[0m \u001b[1m10s\u001b[0m 138ms/step - accuracy: 0.6060 - loss: 0.7554 - val_accuracy: 0.6144 - val_loss: 0.7394\n",
            "Epoch 4/10\n",
            "\u001b[1m57/57\u001b[0m \u001b[32m━━━━━━━━━━━━━━━━━━━━\u001b[0m\u001b[37m\u001b[0m \u001b[1m9s\u001b[0m 117ms/step - accuracy: 0.6007 - loss: 0.7568 - val_accuracy: 0.6144 - val_loss: 0.7391\n",
            "Epoch 5/10\n",
            "\u001b[1m57/57\u001b[0m \u001b[32m━━━━━━━━━━━━━━━━━━━━\u001b[0m\u001b[37m\u001b[0m \u001b[1m10s\u001b[0m 118ms/step - accuracy: 0.6244 - loss: 0.7410 - val_accuracy: 0.6144 - val_loss: 0.7355\n",
            "Epoch 6/10\n",
            "\u001b[1m57/57\u001b[0m \u001b[32m━━━━━━━━━━━━━━━━━━━━\u001b[0m\u001b[37m\u001b[0m \u001b[1m10s\u001b[0m 118ms/step - accuracy: 0.6007 - loss: 0.7505 - val_accuracy: 0.6144 - val_loss: 0.7356\n",
            "Epoch 7/10\n",
            "\u001b[1m57/57\u001b[0m \u001b[32m━━━━━━━━━━━━━━━━━━━━\u001b[0m\u001b[37m\u001b[0m \u001b[1m11s\u001b[0m 137ms/step - accuracy: 0.6061 - loss: 0.7441 - val_accuracy: 0.6144 - val_loss: 0.7360\n",
            "Epoch 8/10\n",
            "\u001b[1m57/57\u001b[0m \u001b[32m━━━━━━━━━━━━━━━━━━━━\u001b[0m\u001b[37m\u001b[0m \u001b[1m8s\u001b[0m 146ms/step - accuracy: 0.6192 - loss: 0.7538 - val_accuracy: 0.6144 - val_loss: 0.7369\n",
            "Epoch 9/10\n",
            "\u001b[1m57/57\u001b[0m \u001b[32m━━━━━━━━━━━━━━━━━━━━\u001b[0m\u001b[37m\u001b[0m \u001b[1m9s\u001b[0m 119ms/step - accuracy: 0.6150 - loss: 0.7366 - val_accuracy: 0.6144 - val_loss: 0.7361\n",
            "Epoch 10/10\n",
            "\u001b[1m57/57\u001b[0m \u001b[32m━━━━━━━━━━━━━━━━━━━━\u001b[0m\u001b[37m\u001b[0m \u001b[1m10s\u001b[0m 119ms/step - accuracy: 0.6182 - loss: 0.7377 - val_accuracy: 0.6144 - val_loss: 0.7360\n"
          ]
        }
      ]
    },
    {
      "cell_type": "code",
      "source": [
        "y_pred_dl = model.predict(X_test_dl)\n",
        "y_pred_labels = y_pred_dl.argmax(axis=1)\n",
        "y_true_labels = y_test_dl.argmax(axis=1)\n",
        "\n",
        "print(classification_report(y_true_labels, y_pred_labels, target_names=le.classes_))\n",
        "print(\"Akurasi =\", accuracy_score(y_true_labels, y_pred_labels))\n"
      ],
      "metadata": {
        "id": "NSzQvJ1edVzI",
        "colab": {
          "base_uri": "https://localhost:8080/"
        },
        "outputId": "a9a29fdb-fb8c-4539-8235-da80069cb419"
      },
      "execution_count": null,
      "outputs": [
        {
          "output_type": "stream",
          "name": "stdout",
          "text": [
            "\u001b[1m29/29\u001b[0m \u001b[32m━━━━━━━━━━━━━━━━━━━━\u001b[0m\u001b[37m\u001b[0m \u001b[1m1s\u001b[0m 22ms/step\n",
            "              precision    recall  f1-score   support\n",
            "\n",
            "     negatif       0.00      0.00      0.00        15\n",
            "      netral       0.00      0.00      0.00       332\n",
            "     positif       0.61      1.00      0.76       553\n",
            "\n",
            "    accuracy                           0.61       900\n",
            "   macro avg       0.20      0.33      0.25       900\n",
            "weighted avg       0.38      0.61      0.47       900\n",
            "\n",
            "Akurasi = 0.6144444444444445\n"
          ]
        },
        {
          "output_type": "stream",
          "name": "stderr",
          "text": [
            "/usr/local/lib/python3.11/dist-packages/sklearn/metrics/_classification.py:1565: UndefinedMetricWarning: Precision is ill-defined and being set to 0.0 in labels with no predicted samples. Use `zero_division` parameter to control this behavior.\n",
            "  _warn_prf(average, modifier, f\"{metric.capitalize()} is\", len(result))\n",
            "/usr/local/lib/python3.11/dist-packages/sklearn/metrics/_classification.py:1565: UndefinedMetricWarning: Precision is ill-defined and being set to 0.0 in labels with no predicted samples. Use `zero_division` parameter to control this behavior.\n",
            "  _warn_prf(average, modifier, f\"{metric.capitalize()} is\", len(result))\n",
            "/usr/local/lib/python3.11/dist-packages/sklearn/metrics/_classification.py:1565: UndefinedMetricWarning: Precision is ill-defined and being set to 0.0 in labels with no predicted samples. Use `zero_division` parameter to control this behavior.\n",
            "  _warn_prf(average, modifier, f\"{metric.capitalize()} is\", len(result))\n"
          ]
        }
      ]
    },
    {
      "cell_type": "code",
      "source": [],
      "metadata": {
        "id": "f_mpaZgeeGIo"
      },
      "execution_count": null,
      "outputs": []
    }
  ]
}